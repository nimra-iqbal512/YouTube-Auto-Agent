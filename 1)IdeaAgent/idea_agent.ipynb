{
 "cells": [
  {
   "cell_type": "code",
   "execution_count": 1,
   "metadata": {},
   "outputs": [],
   "source": [
    "import os\n",
    "from googleapiclient.discovery import build\n",
    "from dotenv import load_dotenv"
   ]
  },
  {
   "cell_type": "code",
   "execution_count": 2,
   "metadata": {},
   "outputs": [],
   "source": [
    "# Load API Keys from environment variables\n",
    "\n",
    "load_dotenv()\n",
    "YOUTUBE_API_KEY = os.getenv(\"YOUTUBE_API_KEY\")\n",
    "# print(YOUTUBE_API_KEY)\n",
    "youtube = build(\"youtube\", \"v3\", developerKey=YOUTUBE_API_KEY)"
   ]
  },
  {
   "cell_type": "code",
   "execution_count": 3,
   "metadata": {},
   "outputs": [
    {
     "name": "stdout",
     "output_type": "stream",
     "text": [
      "20\n"
     ]
    }
   ],
   "source": [
    "# Most popular pre defined categories\n",
    "CATEGORY_IDS = {\n",
    "    \"Film & Animation\": \"1\",\n",
    "    \"Autos & Vehicles\": \"2\",\n",
    "    \"Music\": \"10\",\n",
    "    \"Pets & Animals\": \"15\",\n",
    "    \"Sports\": \"17\",\n",
    "    \"Short Movies\": \"18\",\n",
    "    \"Travel & Events\": \"19\",\n",
    "    \"Gaming\": \"20\",\n",
    "    \"People & Blogs\": \"22\",\n",
    "    \"Comedy\": \"23\",\n",
    "    \"Entertainment\": \"24\",\n",
    "    \"News & Politics\": \"25\",\n",
    "    \"How-to & Style\": \"26\",\n",
    "    \"Education\": \"27\",\n",
    "    \"Science & Tech\": \"28\",\n",
    "}\n",
    "\n",
    "def get_category_id(category_name):\n",
    "    return CATEGORY_IDS.get(category_name, None)\n",
    "\n",
    "# Example usage\n",
    "print(get_category_id(\"Gaming\"))  # Output: \"20\""
   ]
  },
  {
   "cell_type": "code",
   "execution_count": 4,
   "metadata": {},
   "outputs": [],
   "source": [
    "def get_top_trending_titles(region_code, category_name):\n",
    "    # Fetch top 5 trending YouTube videos related to the given category\n",
    "    request = youtube.videos().list(\n",
    "        part = \"snippet\",\n",
    "        chart=\"mostPopular\",\n",
    "        maxResults = 5,\n",
    "        regionCode = region_code,  \n",
    "        videoCategoryId=get_category_id(category_name)\n",
    "    )\n",
    "    \n",
    "    response = request.execute()\n",
    "\n",
    "    # Extract and return top 5 video titles\n",
    "    return [item[\"snippet\"][\"title\"] for item in response.get(\"items\", [])]\n",
    "    # return [item[\"snippet\"][\"channelTitle\"] for item in response.get(\"items\", [])]"
   ]
  },
  {
   "cell_type": "markdown",
   "metadata": {},
   "source": [
    "<!-- API Response Example -->\n",
    "\n",
    "{\n",
    "  \"items\": [\n",
    "    {\n",
    "      \"snippet\": {\n",
    "        \"title\": \"Python Full Course for Beginners\",\n",
    "        \"description\": \"Learn Python from scratch in this full tutorial!\",\n",
    "        \"channelTitle\": \"CodeAcademy\",\n",
    "        \"publishedAt\": \"2024-02-25T10:00:00Z\",\n",
    "        \"thumbnails\": {\n",
    "          \"default\": {\n",
    "            \"url\": \"https://i.ytimg.com/vi/abc123/default.jpg\"\n",
    "          }\n",
    "        }\n",
    "      }\n",
    "    }\n",
    "  ]\n",
    "}"
   ]
  },
  {
   "cell_type": "code",
   "execution_count": 5,
   "metadata": {},
   "outputs": [
    {
     "name": "stdout",
     "output_type": "stream",
     "text": [
      "['Zanjeer bale moulana | part 8 😭🤲🏻| #shortvideo #trending #islamic #motivation #emotional', 'Bungee Jump Challenge! 🎢#3 #vfx #funny #shorts #viralvideo #bungee', 'Dekho Papa Anaya Ki Candy Girne Se Bacha Pate Hain Ya Nahi 😳', 'Discrimination starts from school 🏫 #shorts #ytshorts #sejalgabashorts #scholllife', 'Roza chhor diya \\U0001f979 #razikaabaan #abaanakhtar #itsrazika #comedy #ramzan']\n"
     ]
    }
   ],
   "source": [
    "# Ask user for input\n",
    "region_code = input(\"Enter a region code (e.g., US, IN, PK): \").strip()\n",
    "category = input(\"Enter a category (e.g., Gaming, Comedy, Sports): \").strip()\n",
    "\n",
    "# Fetch trending videos based on user input\n",
    "trending_titles = get_top_trending_titles(region_code, category)\n",
    "print(trending_titles)"
   ]
  },
  {
   "cell_type": "code",
   "execution_count": 7,
   "metadata": {},
   "outputs": [
    {
     "name": "stdout",
     "output_type": "stream",
     "text": [
      "----------------------------------------------------\n",
      "Top 5 Comedy videos from PK\n",
      "----------------------------------------------------\n",
      "1.Zanjeer bale moulana | part 8 😭🤲🏻| #shortvideo #trending #islamic #motivation #emotional\n",
      "2.Bungee Jump Challenge! 🎢#3 #vfx #funny #shorts #viralvideo #bungee\n",
      "3.Dekho Papa Anaya Ki Candy Girne Se Bacha Pate Hain Ya Nahi 😳\n",
      "4.Discrimination starts from school 🏫 #shorts #ytshorts #sejalgabashorts #scholllife\n",
      "5.Roza chhor diya 🥹 #razikaabaan #abaanakhtar #itsrazika #comedy #ramzan\n"
     ]
    }
   ],
   "source": [
    "# Display results\n",
    "print(\"----------------------------------------------------\")\n",
    "print(f\"Top 5 {category} videos from {region_code}\")\n",
    "print(\"----------------------------------------------------\")\n",
    "\n",
    "for idx, title in enumerate(trending_titles, start=1):\n",
    "    print(f\"{idx}.{title}\")"
   ]
  }
 ],
 "metadata": {
  "kernelspec": {
   "display_name": "Python 3",
   "language": "python",
   "name": "python3"
  },
  "language_info": {
   "codemirror_mode": {
    "name": "ipython",
    "version": 3
   },
   "file_extension": ".py",
   "mimetype": "text/x-python",
   "name": "python",
   "nbconvert_exporter": "python",
   "pygments_lexer": "ipython3",
   "version": "3.10.12"
  }
 },
 "nbformat": 4,
 "nbformat_minor": 2
}
