{
  "nbformat": 4,
  "nbformat_minor": 0,
  "metadata": {
    "colab": {
      "provenance": []
    },
    "kernelspec": {
      "name": "python3",
      "display_name": "Python 3"
    },
    "language_info": {
      "name": "python"
    }
  },
  "cells": [
    {
      "cell_type": "code",
      "execution_count": 14,
      "metadata": {
        "id": "7PIBFyALm1Cp"
      },
      "outputs": [],
      "source": [
        "from googleapiclient.discovery import build\n",
        "from google.colab import userdata"
      ]
    },
    {
      "cell_type": "code",
      "source": [
        "API_KEY = userdata.get('youtube_api_key')\n",
        "# print(API_KEY)\n",
        "YOUTUBE_API_SERVICE_NAME = \"youtube\"\n",
        "YOUTUBE_API_VERSION = \"v3\""
      ],
      "metadata": {
        "id": "WfqdmXvfoW1L"
      },
      "execution_count": 16,
      "outputs": []
    },
    {
      "cell_type": "markdown",
      "source": [
        "# **Displays Trending YouTube Video Titles for a specific region**"
      ],
      "metadata": {
        "id": "6S-QAm5eq37R"
      }
    },
    {
      "cell_type": "code",
      "source": [
        "def get_trending_videos(region_code=\"PK\", max_results=5):\n",
        "    youtube = build(YOUTUBE_API_SERVICE_NAME, YOUTUBE_API_VERSION, developerKey=API_KEY)\n",
        "\n",
        "    request = youtube.videos().list(\n",
        "        part=\"snippet\",\n",
        "        chart=\"mostPopular\",\n",
        "        regionCode=region_code,\n",
        "        maxResults=max_results\n",
        "    )\n",
        "\n",
        "    response = request.execute()\n",
        "\n",
        "    trending_titles = [video[\"snippet\"][\"title\"] for video in response.get(\"items\", [])]\n",
        "\n",
        "    return trending_titles"
      ],
      "metadata": {
        "id": "ZEAiUMSio3Sg"
      },
      "execution_count": 20,
      "outputs": []
    },
    {
      "cell_type": "code",
      "source": [
        "if __name__ == \"__main__\":\n",
        "    region = \"PK\"\n",
        "    trending_videos = get_trending_videos(region)\n",
        "\n",
        "    print(\"Trending Video Titles:\")\n",
        "    for idx, title in enumerate(trending_videos, start=1):\n",
        "        print(f\"{idx}. {title}\")"
      ],
      "metadata": {
        "colab": {
          "base_uri": "https://localhost:8080/"
        },
        "id": "lsrra1_JpEj7",
        "outputId": "251623ba-ddf6-431b-84ec-16dc48a268af"
      },
      "execution_count": 21,
      "outputs": [
        {
          "output_type": "stream",
          "name": "stdout",
          "text": [
            "Trending Video Titles:\n",
            "1. My Sister 🍓 Fasting Iftaari Time 😁|\n",
            "2. Iftar ki dua youtube se seekhi 🥹 #razikaabaan #abaanakhtar #itsrazika #ramzanmubarak\n",
            "3. Can You Guess The Fake Watermelon?\n",
            "4. Let’s Strain ☕ Tea With Just a 📄 Papercup! 🤩✨💗\n",
            "5. ₹10,000 Holi Gadget\n"
          ]
        }
      ]
    },
    {
      "cell_type": "markdown",
      "source": [
        "# **Display Trending YouTube Video Titles for a specific Category, based on a specific category**"
      ],
      "metadata": {
        "id": "i8TT9zC5rG8L"
      }
    },
    {
      "cell_type": "code",
      "source": [
        "def get_trending_videos(region_code=\"PAK\", category_id=\"17\", max_results=5):\n",
        "    youtube = build(YOUTUBE_API_SERVICE_NAME, YOUTUBE_API_VERSION, developerKey=API_KEY)\n",
        "\n",
        "    request = youtube.videos().list(\n",
        "        part=\"snippet\",\n",
        "        chart=\"mostPopular\",\n",
        "        regionCode=region_code,\n",
        "        maxResults=max_results,\n",
        "        videoCategoryId=category_id  # Filter by category\n",
        "    )\n",
        "\n",
        "    response = request.execute()\n",
        "\n",
        "    trending_titles = [video[\"snippet\"][\"title\"] for video in response.get(\"items\", [])]\n",
        "\n",
        "    return trending_titles\n",
        "\n",
        "if __name__ == \"__main__\":\n",
        "    region = \"PK\"  # Change region code as needed\n",
        "    category_id = \"17\"  # Sports category\n",
        "    trending_videos = get_trending_videos(region, category_id)\n",
        "\n",
        "    print(\"Trending Sports Video Titles:\")\n",
        "    for idx, title in enumerate(trending_videos, start=1):\n",
        "        print(f\"{idx}. {title}\")\n"
      ],
      "metadata": {
        "colab": {
          "base_uri": "https://localhost:8080/"
        },
        "id": "vDC9FrxdqPW5",
        "outputId": "eb9bbc3f-f5aa-405b-a210-92c1d58f5f11"
      },
      "execution_count": 22,
      "outputs": [
        {
          "output_type": "stream",
          "name": "stdout",
          "text": [
            "Trending Sports Video Titles:\n",
            "1. This Famous Athlete's Sports shoes in Olympics #shortsvideo\n",
            "2. Last One To Fall Wins\n",
            "3. Again ronaldo meets sheep 🤣😭 || #cristianoronaldo #cr7 #ronaldo #footballshorts #football #fyp\n",
            "4. INDIA VS PAKISTAN JUMP chaillange ❓😯#shorts #ytshorts\n",
            "5. Messi 1 million Dollar 💵 Tissue Paper 😱\n"
          ]
        }
      ]
    }
  ]
}