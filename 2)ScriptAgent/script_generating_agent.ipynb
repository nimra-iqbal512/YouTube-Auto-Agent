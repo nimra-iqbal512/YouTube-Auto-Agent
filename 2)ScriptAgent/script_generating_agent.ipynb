{
 "cells": [
  {
   "cell_type": "code",
   "execution_count": 1,
   "metadata": {},
   "outputs": [],
   "source": [
    "import requests\n",
    "import os\n",
    "from dotenv import load_dotenv\n",
    "\n",
    "# Load API Keys from environment variables\n",
    "load_dotenv()\n",
    "HUGGING_FACE_TOKEN = os.getenv(\"HUGGING_FACE_TOKEN\")\n",
    "\n",
    "API_URL = \"https://api-inference.huggingface.co/models/tiiuae/falcon-7b-instruct\"\n",
    "headers = {\"Authorization\": f\"Bearer {HUGGING_FACE_TOKEN}\"}"
   ]
  },
  {
   "cell_type": "code",
   "execution_count": 2,
   "metadata": {},
   "outputs": [],
   "source": [
    "def generate_script(prompt):\n",
    "    payload = {\n",
    "        \"inputs\": prompt,\n",
    "        \"parameters\": {\n",
    "            \"max_new_tokens\": 2000,  # Adjust as needed\n",
    "            \"temperature\": 0.9,\n",
    "            \"do_sample\": True,\n",
    "            \"top_p\": 0.95, \n",
    "            \"repetition_penalty\": 1.2\n",
    "        }\n",
    "    }\n",
    "    response = requests.post(API_URL, headers=headers, json=payload)\n",
    "    return response.json()"
   ]
  },
  {
   "cell_type": "code",
   "execution_count": 3,
   "metadata": {},
   "outputs": [],
   "source": [
    "# # Define your video title\n",
    "# title = \"How to Start a YouTube Channel in 2025\"\n",
    "prompt = \"\"\"\n",
    "Title: How to Start a YouTube Channel in 2025\n",
    "\n",
    "Write a detailed, engaging YouTube script, of about 1800-2000 words. \n",
    "Include an introduction, main points, and a conclusion. \n",
    "Use conversational language and provide examples.\n",
    "\n",
    "Script:\n",
    "\"\"\""
   ]
  },
  {
   "cell_type": "code",
   "execution_count": 4,
   "metadata": {},
   "outputs": [
    {
     "name": "stdout",
     "output_type": "stream",
     "text": [
      "[{'generated_text': '\\nTitle: How to Start a YouTube Channel in 2025\\n\\nWrite a detailed, engaging YouTube script, of about 1800-2000 words. \\nInclude an introduction, main points, and a conclusion. \\nUse conversational language and provide examples.\\n\\nScript:\\n(FADE IN: INTRODUCTION - 10-20 SECONDS)\\n(SPEAKER) Hi there! I\\'m your host, John, and today we\\'re going to be talking about how to start a YouTube channel from scratch. Creating a YouTube channel can be an incredibly rewarding experience, and in this video, we\\'re going to talk about everything you need to do to get started. \\n(INTRODUCTION - 0:00 - 1:30)\\nAre you looking for the best way to start a YouTube channel? Are you wondering how to create an amazing content strategy to attract viewers? In today\\'s video, I\\'m going to give you some of the best advice on how to start a YouTube channel that\\'s packed with valuable content, including: \\n\\n1. Get the most out of your profile: When you create a YouTube channel, one of the first things you should do is work on creating a great profile. This will attract more viewers, and more viewers can lead to more ad revenue.\\n\\n2. Planning out a content calendar: Having an overarching plan for your channel can help you stay organized, keep track of your progress, and ensure that you\\'re never out of ideas for content.\\n\\n3. Creating engaging videos: If you want to create a successful YouTube channel, you need to create content that engages viewers. The more interesting your content is, the more likely it is to get more views, which means that the more ad revenue you\\'re likely to make. \\n\\n4. Promote your channel to a wider audience: Advertising your channel on social media, and other channels can help you reach a wider audience. \\n\\n5. Collaborating with other creators: Working with other creators is an excellent way to expand your channel, and it can also help to generate additional ad revenue. \\n\\nI hope you find this advice useful. Let me know if you have any questions!\\n(BODY - 800-1500 WORDS)\\n\\nThe body of your script should consist of a few key elements:\\n\\n1. *Introduction*: This is where you can explain to your viewers what the channel is about and why it\\'s different from all the other channels out there.\\n\\n2. *Main Points*: Within the main body of the video, you can introduce your viewers to the different types of content that you will be making.\\n\\n3. *Conclusion*: Finally, be sure to include a \"call to action\" in your script that encourages viewers to subscribe, hit like or share with their friends to keep up-to-date with your content.\\n\\nUsing this structure allows you to keep your viewers engaged, make sure you\\'re sticking to your main points, and so much more!\\nUser '}]\n"
     ]
    }
   ],
   "source": [
    "# Example prompt\n",
    "script = generate_script(prompt)\n",
    "\n",
    "# Print the generated script\n",
    "print(script)"
   ]
  },
  {
   "cell_type": "code",
   "execution_count": 5,
   "metadata": {},
   "outputs": [
    {
     "name": "stdout",
     "output_type": "stream",
     "text": [
      "Script saved successfully!\n"
     ]
    }
   ],
   "source": [
    "# Extract the generated text from the API response\n",
    "generated_text = script[0][\"generated_text\"] if isinstance(script, list) and script else \"No script generated.\"\n",
    "\n",
    "# Save to a file\n",
    "with open(\"youtube_script.txt\", \"w\", encoding=\"utf-8\") as file:\n",
    "    file.write(generated_text)\n",
    "\n",
    "print(\"Script saved successfully!\")"
   ]
  }
 ],
 "metadata": {
  "kernelspec": {
   "display_name": "Python 3",
   "language": "python",
   "name": "python3"
  },
  "language_info": {
   "codemirror_mode": {
    "name": "ipython",
    "version": 3
   },
   "file_extension": ".py",
   "mimetype": "text/x-python",
   "name": "python",
   "nbconvert_exporter": "python",
   "pygments_lexer": "ipython3",
   "version": "3.10.12"
  }
 },
 "nbformat": 4,
 "nbformat_minor": 2
}
